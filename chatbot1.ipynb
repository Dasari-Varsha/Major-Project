{
  "nbformat": 4,
  "nbformat_minor": 0,
  "metadata": {
    "colab": {
      "provenance": [],
      "toc_visible": true
    },
    "kernelspec": {
      "name": "python3",
      "display_name": "Python 3"
    },
    "language_info": {
      "name": "python"
    }
  },
  "cells": [
    {
      "cell_type": "code",
      "execution_count": null,
      "metadata": {
        "id": "haX0WtZqBatB"
      },
      "outputs": [],
      "source": [
        "import numpy as np\n",
        "\n",
        "import nltk\n",
        "\n",
        "import string\n",
        "\n",
        "import random"
      ]
    },
    {
      "cell_type": "code",
      "source": [
        "import nltk\n",
        "nltk.download('punkt')\n",
        "nltk.download('wordnet')\n",
        "nltk.download('omw-1.4')  # Optional but useful for WordNet\n",
        "\n",
        "# Manually download punkt_tab\n",
        "nltk.download('punkt_tab')\n"
      ],
      "metadata": {
        "colab": {
          "base_uri": "https://localhost:8080/"
        },
        "id": "U3WQ6hgwDij7",
        "outputId": "8a0ba341-4ebf-4f9e-df70-a8d2a2933104"
      },
      "execution_count": null,
      "outputs": [
        {
          "output_type": "stream",
          "name": "stderr",
          "text": [
            "[nltk_data] Downloading package punkt to /root/nltk_data...\n",
            "[nltk_data]   Unzipping tokenizers/punkt.zip.\n",
            "[nltk_data] Downloading package wordnet to /root/nltk_data...\n",
            "[nltk_data] Downloading package omw-1.4 to /root/nltk_data...\n",
            "[nltk_data] Downloading package punkt_tab to /root/nltk_data...\n",
            "[nltk_data]   Unzipping tokenizers/punkt_tab.zip.\n"
          ]
        },
        {
          "output_type": "execute_result",
          "data": {
            "text/plain": [
              "True"
            ]
          },
          "metadata": {},
          "execution_count": 2
        }
      ]
    },
    {
      "cell_type": "code",
      "source": [
        "f=open('chat1.txt','r', errors = 'ignore')\n",
        "\n",
        "raw_doc=f.read()\n",
        "\n",
        "raw_doc=raw_doc.lower() #Converts text to lowercase\n",
        "\n",
        "# nltk.download('punkt') #Using the Punkt tokenizer\n",
        "\n",
        "# nltk.download('wordnet') #Using the WordNet dictionary\n",
        "\n",
        "sent_tokens = nltk.sent_tokenize(raw_doc) #Converts doc to list of sentences\n",
        "\n",
        "word_tokens = nltk.word_tokenize(raw_doc) #Converts doc to list of words\n",
        "\n"
      ],
      "metadata": {
        "id": "Z1qhMVFfBxsc"
      },
      "execution_count": null,
      "outputs": []
    },
    {
      "cell_type": "code",
      "source": [
        "sent_tokens[:2]\n",
        "\n"
      ],
      "metadata": {
        "colab": {
          "base_uri": "https://localhost:8080/"
        },
        "id": "YmTMQXY_Dupu",
        "outputId": "3cc06531-9a91-4f09-b999-9e20c335f1a9"
      },
      "execution_count": null,
      "outputs": [
        {
          "output_type": "execute_result",
          "data": {
            "text/plain": [
              "['{\\n    \"intents\": [\\n      {\\n        \"tag\": \"greeting\",\\n        \"patterns\": [\\n          \"hi\",\\n          \"hey\",\\n          \"is anyone there?',\n",
              " '\",\\n          \"hi there\",\\n          \"hello\",\\n          \"hey there\",\\n          \"howdy\",\\n          \"hola\",\\n          \"bonjour\",\\n          \"konnichiwa\",\\n          \"guten tag\",\\n          \"ola\"\\n        ],\\n        \"responses\": [\\n          \"hello there.']"
            ]
          },
          "metadata": {},
          "execution_count": 4
        }
      ]
    },
    {
      "cell_type": "code",
      "source": [
        "word_tokens[:2]"
      ],
      "metadata": {
        "colab": {
          "base_uri": "https://localhost:8080/"
        },
        "id": "BUjR-chPD80h",
        "outputId": "ebc5391b-61ef-4587-95e8-5183ea0304c6"
      },
      "execution_count": null,
      "outputs": [
        {
          "output_type": "execute_result",
          "data": {
            "text/plain": [
              "['{', '``']"
            ]
          },
          "metadata": {},
          "execution_count": 5
        }
      ]
    },
    {
      "cell_type": "code",
      "source": [
        "lemmer=nltk.stem.WordNetLemmatizer()\n",
        "\n",
        "#WordNet is a semantically-oriented dictionary of English included in NLTK.\n",
        "\n",
        "def LemTokens (tokens):\n",
        "  return [lemmer.lemmatize(token) for token in tokens]\n",
        "\n",
        "remove_punct_dict = dict((ord(punct), None) for punct in string.punctuation)\n",
        "\n",
        "def LemNormalize(text):\n",
        "  return LemTokens (nltk.word_tokenize (text.lower().translate(remove_punct_dict)))\n",
        "\n"
      ],
      "metadata": {
        "id": "xmzz0woUECIl"
      },
      "execution_count": null,
      "outputs": []
    },
    {
      "cell_type": "code",
      "source": [
        "GREET_INPUTS = (\"hello\", \"hi\", \"greetings\", \"sup\", \"what's up\", \"hey\",)\n",
        "\n",
        "GREET_RESPONSES = [\"hi\", \"hey\", \"'nods'\", \"hi there\", \"hello\", \"I am glad! You are talking to me\"]\n",
        "\n",
        "def greet(sentence):\n",
        "\n",
        "  for word in sentence.split():\n",
        "\n",
        "    if word.lower() in GREET_INPUTS:\n",
        "\n",
        "      return random.choice(GREET_RESPONSES)\n",
        "\n"
      ],
      "metadata": {
        "id": "tGFGN05nEqNF"
      },
      "execution_count": null,
      "outputs": []
    },
    {
      "cell_type": "code",
      "source": [
        "from sklearn.feature_extraction.text import TfidfVectorizer\n",
        "\n",
        "from sklearn.metrics.pairwise import cosine_similarity\n",
        "\n"
      ],
      "metadata": {
        "id": "l21h3_WcFVRG"
      },
      "execution_count": null,
      "outputs": []
    },
    {
      "cell_type": "code",
      "source": [
        "def response(user_response):\n",
        "\n",
        "  robo1_response=''\n",
        "\n",
        "  TfidfVec = TfidfVectorizer(tokenizer=LemNormalize, stop_words='english')\n",
        "\n",
        "  tfidf = TfidfVec.fit_transform(sent_tokens)\n",
        "\n",
        "  vals = cosine_similarity(tfidf[-1], tfidf)\n",
        "\n",
        "  idx=vals.argsort()[0][-2]\n",
        "\n",
        "  flat = vals.flatten()\n",
        "\n",
        "  flat.sort()\n",
        "\n",
        "  req_tfidf = flat[-2]\n",
        "\n",
        "  if(req_tfidf==0):\n",
        "\n",
        "    robo1_response = robo1_response+\"I am sorry! I don't understand you\"\n",
        "\n",
        "    return robo1_response\n",
        "\n",
        "  else:\n",
        "\n",
        "    robo1_response = robo1_response+sent_tokens [idx]\n",
        "\n",
        "    return robo1_response\n",
        "\n"
      ],
      "metadata": {
        "id": "FjxsAPamGJ83"
      },
      "execution_count": null,
      "outputs": []
    },
    {
      "cell_type": "code",
      "source": [
        "flag=True\n",
        "\n",
        "print(\"BOT: My name is Stark. Let's have a conversation! Also, if you want to exit any time, just type Bye!\")\n",
        "\n",
        "while(flag==True):\n",
        "\n",
        "  user_response = input()\n",
        "\n",
        "  user_response = user_response.lower()\n",
        "\n",
        "  if(user_response!='bye'):\n",
        "\n",
        "    if(user_response=='thanks' or user_response==\"thank you\"):\n",
        "\n",
        "      flag=False\n",
        "\n",
        "      print(\"BOT: You are welcome..\")\n",
        "\n",
        "    else:\n",
        "\n",
        "      if(greet(user_response)!=None):\n",
        "\n",
        "        print(\"BOT: \"+greet(user_response))\n",
        "\n",
        "      else:\n",
        "\n",
        "        sent_tokens.append(user_response)\n",
        "\n",
        "        word_tokens=word_tokens+nltk.word_tokenize(user_response)\n",
        "\n",
        "        final_words=list(set(word_tokens))\n",
        "\n",
        "        print(\"BOT: \", end=\"\")\n",
        "\n",
        "        print(response(user_response))\n",
        "\n",
        "        sent_tokens.remove(user_response)\n",
        "\n",
        "  else:\n",
        "\n",
        "    flag=False\n",
        "\n",
        "    print(\"BOT: Goodbye! Take care <3 \")\n",
        "\n"
      ],
      "metadata": {
        "colab": {
          "base_uri": "https://localhost:8080/"
        },
        "id": "s8BAhhNmHJQJ",
        "outputId": "6790d047-ffb9-4a87-df05-60c48f21649e"
      },
      "execution_count": null,
      "outputs": [
        {
          "output_type": "stream",
          "name": "stdout",
          "text": [
            "BOT: My name is Stark. Let's have a conversation! Also, if you want to exit any time, just type Bye!\n",
            "hi\n",
            "BOT: hey\n",
            "Why do I feel bloated during periods\n",
            "BOT: "
          ]
        },
        {
          "output_type": "stream",
          "name": "stderr",
          "text": [
            "/usr/local/lib/python3.11/dist-packages/sklearn/feature_extraction/text.py:517: UserWarning: The parameter 'token_pattern' will not be used since 'tokenizer' is not None'\n",
            "  warnings.warn(\n",
            "/usr/local/lib/python3.11/dist-packages/sklearn/feature_extraction/text.py:402: UserWarning: Your stop_words may be inconsistent with your preprocessing. Tokenizing the stop words generated tokens ['ha', 'u', 'wa'] not in stop_words.\n",
            "  warnings.warn(\n"
          ]
        },
        {
          "output_type": "stream",
          "name": "stdout",
          "text": [
            "]\n",
            "      },\n",
            "      {\n",
            "        \"tag\": \"bloating-periods\",\n",
            "        \"patterns\": [\n",
            "          \"why do i feel bloated during periods?\n",
            "bye\n",
            "BOT: Goodbye! Take care <3 \n"
          ]
        }
      ]
    }
  ]
}